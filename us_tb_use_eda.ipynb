{
 "cells": [
  {
   "cell_type": "code",
   "execution_count": 1,
   "id": "07d3db7b",
   "metadata": {},
   "outputs": [],
   "source": [
    "import numpy as np\n",
    "import pandas as pd\n",
    "import seaborn as sns\n",
    "import matplotlib.pyplot as plt\n",
    "import os\n",
    "import json\n",
    "import plotly.express as px\n",
    "%load_ext autoreload\n",
    "%autoreload 2\n",
    "%matplotlib inline"
   ]
  },
  {
   "cell_type": "code",
   "execution_count": 2,
   "id": "1b90c3e1",
   "metadata": {},
   "outputs": [],
   "source": [
    "with open('config/EDA.json') as fh:\n",
    "    configs = json.load(fh)\n",
    "    EDA_VIZ_PATH, TB_US_PATH = configs['EDA_VIZ_PATH'], configs['TB_US_PATH']"
   ]
  },
  {
   "cell_type": "code",
   "execution_count": 3,
   "id": "f8d57f60",
   "metadata": {},
   "outputs": [
    {
     "data": {
      "text/html": [
       "<div>\n",
       "<style scoped>\n",
       "    .dataframe tbody tr th:only-of-type {\n",
       "        vertical-align: middle;\n",
       "    }\n",
       "\n",
       "    .dataframe tbody tr th {\n",
       "        vertical-align: top;\n",
       "    }\n",
       "\n",
       "    .dataframe thead th {\n",
       "        text-align: right;\n",
       "    }\n",
       "</style>\n",
       "<table border=\"1\" class=\"dataframe\">\n",
       "  <thead>\n",
       "    <tr style=\"text-align: right;\">\n",
       "      <th></th>\n",
       "      <th>Year</th>\n",
       "      <th>Locationabbr</th>\n",
       "      <th>Locationdesc</th>\n",
       "      <th>Topic</th>\n",
       "      <th>Question</th>\n",
       "      <th>Response</th>\n",
       "      <th>Break_Out</th>\n",
       "      <th>Break_Out_Category</th>\n",
       "      <th>Sample_Size</th>\n",
       "      <th>Data_value</th>\n",
       "      <th>...</th>\n",
       "      <th>Confidence_limit_High</th>\n",
       "      <th>Data_value_unit</th>\n",
       "      <th>Data_value_type</th>\n",
       "      <th>Data_Value_Footnote</th>\n",
       "      <th>LocationID</th>\n",
       "      <th>BreakoutID</th>\n",
       "      <th>BreakOutCategoryID</th>\n",
       "      <th>QuestionID</th>\n",
       "      <th>ResponseID</th>\n",
       "      <th>GeoLocation</th>\n",
       "    </tr>\n",
       "  </thead>\n",
       "  <tbody>\n",
       "    <tr>\n",
       "      <th>0</th>\n",
       "      <td>2019</td>\n",
       "      <td>KS</td>\n",
       "      <td>Kansas</td>\n",
       "      <td>Smokeless Tobacco</td>\n",
       "      <td>Do you currently use chewing tobacco, snuff, o...</td>\n",
       "      <td>Every day</td>\n",
       "      <td>25-34</td>\n",
       "      <td>Age Group</td>\n",
       "      <td>52</td>\n",
       "      <td>4.31</td>\n",
       "      <td>...</td>\n",
       "      <td>5.60</td>\n",
       "      <td>%</td>\n",
       "      <td>Crude Prevalence</td>\n",
       "      <td>NaN</td>\n",
       "      <td>20</td>\n",
       "      <td>AGE02</td>\n",
       "      <td>CAT3</td>\n",
       "      <td>USENOW3</td>\n",
       "      <td>RESP079</td>\n",
       "      <td>(38.34774030000045, -98.20078122699965)</td>\n",
       "    </tr>\n",
       "    <tr>\n",
       "      <th>1</th>\n",
       "      <td>2019</td>\n",
       "      <td>KS</td>\n",
       "      <td>Kansas</td>\n",
       "      <td>Smokeless Tobacco</td>\n",
       "      <td>Do you currently use chewing tobacco, snuff, o...</td>\n",
       "      <td>Some days</td>\n",
       "      <td>Female</td>\n",
       "      <td>Gender</td>\n",
       "      <td>17</td>\n",
       "      <td>0.40</td>\n",
       "      <td>...</td>\n",
       "      <td>0.62</td>\n",
       "      <td>%</td>\n",
       "      <td>Crude Prevalence</td>\n",
       "      <td>NaN</td>\n",
       "      <td>20</td>\n",
       "      <td>SEX2</td>\n",
       "      <td>CAT2</td>\n",
       "      <td>USENOW3</td>\n",
       "      <td>RESP080</td>\n",
       "      <td>(38.34774030000045, -98.20078122699965)</td>\n",
       "    </tr>\n",
       "  </tbody>\n",
       "</table>\n",
       "<p>2 rows × 21 columns</p>\n",
       "</div>"
      ],
      "text/plain": [
       "   Year Locationabbr Locationdesc              Topic  \\\n",
       "0  2019           KS       Kansas  Smokeless Tobacco   \n",
       "1  2019           KS       Kansas  Smokeless Tobacco   \n",
       "\n",
       "                                            Question   Response Break_Out  \\\n",
       "0  Do you currently use chewing tobacco, snuff, o...  Every day     25-34   \n",
       "1  Do you currently use chewing tobacco, snuff, o...  Some days    Female   \n",
       "\n",
       "  Break_Out_Category Sample_Size  Data_value  ...  Confidence_limit_High  \\\n",
       "0          Age Group          52        4.31  ...                   5.60   \n",
       "1             Gender          17        0.40  ...                   0.62   \n",
       "\n",
       "   Data_value_unit   Data_value_type Data_Value_Footnote LocationID  \\\n",
       "0                %  Crude Prevalence                 NaN         20   \n",
       "1                %  Crude Prevalence                 NaN         20   \n",
       "\n",
       "   BreakoutID BreakOutCategoryID QuestionID ResponseID  \\\n",
       "0       AGE02               CAT3    USENOW3    RESP079   \n",
       "1        SEX2               CAT2    USENOW3    RESP080   \n",
       "\n",
       "                               GeoLocation  \n",
       "0  (38.34774030000045, -98.20078122699965)  \n",
       "1  (38.34774030000045, -98.20078122699965)  \n",
       "\n",
       "[2 rows x 21 columns]"
      ]
     },
     "execution_count": 3,
     "metadata": {},
     "output_type": "execute_result"
    }
   ],
   "source": [
    "tb_use  = pd.read_csv(TB_US_PATH)\n",
    "tb_use.head(2)"
   ]
  },
  {
   "cell_type": "code",
   "execution_count": 4,
   "id": "f47abefd",
   "metadata": {},
   "outputs": [],
   "source": [
    "# Tranforming sample size to int (no invalid string, checked)\n",
    "tb_use['Sample_size'] = tb_use['Sample_Size'].apply(lambda x: int(x.replace(',', '')))"
   ]
  },
  {
   "cell_type": "code",
   "execution_count": 5,
   "id": "efa82d94",
   "metadata": {},
   "outputs": [],
   "source": [
    "# this can be better optimized by first finding total sample size per group and left joining it onto the original table\n",
    "def impute_subgroup(sub_group):\n",
    "#     print(f'new subgroup: ')\n",
    "#     display(sub_group)\n",
    "    total = sub_group['Sample_size'].sum()\n",
    "    def impute_dv(row):\n",
    "        if pd.isna(row['Data_value']):\n",
    "            if total == 0:\n",
    "                return 0\n",
    "            return (row['Sample_size'] / total) *100\n",
    "        else:\n",
    "            return row['Data_value']\n",
    "    sub_group['Data_value'] = sub_group.apply(impute_dv, axis=1)\n",
    "    return sub_group"
   ]
  },
  {
   "cell_type": "code",
   "execution_count": 6,
   "id": "0c9a5680",
   "metadata": {
    "scrolled": true
   },
   "outputs": [],
   "source": [
    "# impute data value by manually calculating proportion of sample size (DOF ignore so maybe a bit off in value)\n",
    "tb_use_cleaned = tb_use.groupby(['Year', 'Locationabbr', 'Break_Out', 'Question']).apply(impute_subgroup)"
   ]
  },
  {
   "cell_type": "code",
   "execution_count": 7,
   "id": "b0e238e5",
   "metadata": {},
   "outputs": [],
   "source": [
    "tb_use_cleaned.to_csv('data/tobacco_use_us_cleaned.csv')"
   ]
  },
  {
   "cell_type": "markdown",
   "id": "9da33ccd",
   "metadata": {},
   "source": [
    "Extensive EDAs are inside the tableau workbook."
   ]
  },
  {
   "cell_type": "markdown",
   "id": "a4f1ef90",
   "metadata": {},
   "source": [
    "# Preliminary"
   ]
  },
  {
   "cell_type": "markdown",
   "id": "48d98d73",
   "metadata": {},
   "source": [
    "Year range"
   ]
  },
  {
   "cell_type": "code",
   "execution_count": 8,
   "id": "81a30138",
   "metadata": {},
   "outputs": [
    {
     "data": {
      "text/plain": [
       "array([2019, 2011, 2012, 2013, 2014, 2015, 2016, 2017, 2018, 2020],\n",
       "      dtype=int64)"
      ]
     },
     "execution_count": 8,
     "metadata": {},
     "output_type": "execute_result"
    }
   ],
   "source": [
    "tb_use['Year'].unique()"
   ]
  },
  {
   "cell_type": "markdown",
   "id": "ba772bb9",
   "metadata": {},
   "source": [
    "Locationdesc: state abbr + UW (all states and DC (median)) and US (united states). Does not have equal participation"
   ]
  },
  {
   "cell_type": "code",
   "execution_count": 9,
   "id": "1ce85cad",
   "metadata": {},
   "outputs": [],
   "source": [
    "# tb_use['Locationabbr'].value_counts().head()"
   ]
  },
  {
   "cell_type": "markdown",
   "id": "396a4597",
   "metadata": {},
   "source": [
    "Topic - Quesion is 1 on 1  \n",
    " \n",
    "- Q: Smoker Status - Four Level Smoking Status (variable calculated from one or more BRFSS questions)  \n",
    "- A: \\['Never smoked', 'Smoke some days', 'Smoke everyday', 'Former smoker'\\]  \n",
    "  \n",
    "- Q: Smokeless Tobacco - Do you currently use chewing tobacco, snuff, or snus? \n",
    "- A: \\[Every day, Some days, Not at all\\]  \n",
    "\n",
    "- Q: Current Smoker Status - Adults who are current smokers (variable calculated from one or more BRFSS questions)  \n",
    "- A: \\[Yes, No\\]"
   ]
  },
  {
   "cell_type": "code",
   "execution_count": 10,
   "id": "d9d153b5",
   "metadata": {},
   "outputs": [],
   "source": [
    "# tb_use.groupby('Topic')['Response'].unique()['Smoker Status']"
   ]
  },
  {
   "cell_type": "code",
   "execution_count": 11,
   "id": "b6baae53",
   "metadata": {},
   "outputs": [],
   "source": [
    "# tb_use.groupby('Topic')['Question'].apply(lambda x: len(set(x)))\n",
    "# tb_use['Topic'].value_counts()\n",
    "# tb_use['Question'].value_counts()\n",
    "# state_occur = tb_use['Locationabbr']\\\n",
    "#     .value_counts().to_frame().reset_index()\\\n",
    "#     .rename(columns = {'index':'code', 'Locationabbr':'num_records'})"
   ]
  },
  {
   "cell_type": "markdown",
   "id": "71df4725",
   "metadata": {},
   "source": [
    "breakouts"
   ]
  },
  {
   "cell_type": "code",
   "execution_count": 12,
   "id": "4955db92",
   "metadata": {},
   "outputs": [],
   "source": [
    "# tb_use.groupby(['Topic', 'Break_Out'])[['Locationabbr']].count().loc['Current Smoker Status']"
   ]
  },
  {
   "cell_type": "markdown",
   "id": "a230dd82",
   "metadata": {},
   "source": [
    "# Quantifying tobacco culture"
   ]
  },
  {
   "cell_type": "markdown",
   "id": "2427401e",
   "metadata": {},
   "source": [
    "territory to exclude: puertorico (too small sample size), virgin island (one data point lmao)"
   ]
  },
  {
   "cell_type": "markdown",
   "id": "537d6b65",
   "metadata": {},
   "source": [
    "visual clustering:  \n",
    "- y = overall health awareness\n",
    "- x = income difference"
   ]
  },
  {
   "cell_type": "code",
   "execution_count": 14,
   "id": "4a8d6f4e",
   "metadata": {},
   "outputs": [],
   "source": [
    "years = range(2011, 2021)\n",
    "states = set(tb_use_cleaned['Locationabbr'].unique()) - set({'GU', 'VI', 'PR', 'US', 'UW'})"
   ]
  },
  {
   "cell_type": "code",
   "execution_count": 21,
   "id": "c26f49c6",
   "metadata": {},
   "outputs": [],
   "source": [
    "state = 'AZ'\n",
    "year = 2011\n",
    "low_income = 'INCOME1'\n",
    "high_income = 'INCOME5'\n",
    "overall = 'BO1'"
   ]
  },
  {
   "cell_type": "code",
   "execution_count": 22,
   "id": "10ef93e1",
   "metadata": {},
   "outputs": [],
   "source": [
    "relavent_year_state = tb_use_cleaned.loc[\\\n",
    "                       (tb_use_cleaned['Locationabbr'] == state) &\\\n",
    "                       (tb_use_cleaned['Year'] == year)&(tb_use_cleaned['QuestionID']=='_RFSMOK3')&\\\n",
    "                       (tb_use_cleaned['Response']=='Yes')]"
   ]
  },
  {
   "cell_type": "code",
   "execution_count": 23,
   "id": "654c0f11",
   "metadata": {},
   "outputs": [
    {
     "data": {
      "text/html": [
       "<div>\n",
       "<style scoped>\n",
       "    .dataframe tbody tr th:only-of-type {\n",
       "        vertical-align: middle;\n",
       "    }\n",
       "\n",
       "    .dataframe tbody tr th {\n",
       "        vertical-align: top;\n",
       "    }\n",
       "\n",
       "    .dataframe thead th {\n",
       "        text-align: right;\n",
       "    }\n",
       "</style>\n",
       "<table border=\"1\" class=\"dataframe\">\n",
       "  <thead>\n",
       "    <tr style=\"text-align: right;\">\n",
       "      <th></th>\n",
       "      <th>Year</th>\n",
       "      <th>Locationabbr</th>\n",
       "      <th>Locationdesc</th>\n",
       "      <th>Topic</th>\n",
       "      <th>Question</th>\n",
       "      <th>Response</th>\n",
       "      <th>Break_Out</th>\n",
       "      <th>Break_Out_Category</th>\n",
       "      <th>Sample_Size</th>\n",
       "      <th>Data_value</th>\n",
       "      <th>...</th>\n",
       "      <th>Data_value_unit</th>\n",
       "      <th>Data_value_type</th>\n",
       "      <th>Data_Value_Footnote</th>\n",
       "      <th>LocationID</th>\n",
       "      <th>BreakoutID</th>\n",
       "      <th>BreakOutCategoryID</th>\n",
       "      <th>QuestionID</th>\n",
       "      <th>ResponseID</th>\n",
       "      <th>GeoLocation</th>\n",
       "      <th>Sample_size</th>\n",
       "    </tr>\n",
       "  </thead>\n",
       "  <tbody>\n",
       "    <tr>\n",
       "      <th>17442</th>\n",
       "      <td>2011</td>\n",
       "      <td>AZ</td>\n",
       "      <td>Arizona</td>\n",
       "      <td>Current Smoker Status</td>\n",
       "      <td>Adults who are current smokers (variable calcu...</td>\n",
       "      <td>Yes</td>\n",
       "      <td>Overall</td>\n",
       "      <td>Overall</td>\n",
       "      <td>1,023</td>\n",
       "      <td>19.3</td>\n",
       "      <td>...</td>\n",
       "      <td>%</td>\n",
       "      <td>Crude Prevalence</td>\n",
       "      <td>NaN</td>\n",
       "      <td>4</td>\n",
       "      <td>BO1</td>\n",
       "      <td>CAT1</td>\n",
       "      <td>_RFSMOK3</td>\n",
       "      <td>RESP046</td>\n",
       "      <td>(34.86597028, -111.763811277)</td>\n",
       "      <td>1023</td>\n",
       "    </tr>\n",
       "  </tbody>\n",
       "</table>\n",
       "<p>1 rows × 22 columns</p>\n",
       "</div>"
      ],
      "text/plain": [
       "       Year Locationabbr Locationdesc                  Topic  \\\n",
       "17442  2011           AZ      Arizona  Current Smoker Status   \n",
       "\n",
       "                                                Question Response Break_Out  \\\n",
       "17442  Adults who are current smokers (variable calcu...      Yes   Overall   \n",
       "\n",
       "      Break_Out_Category Sample_Size  Data_value  ...  Data_value_unit  \\\n",
       "17442            Overall       1,023        19.3  ...                %   \n",
       "\n",
       "        Data_value_type Data_Value_Footnote LocationID BreakoutID  \\\n",
       "17442  Crude Prevalence                 NaN          4        BO1   \n",
       "\n",
       "       BreakOutCategoryID QuestionID ResponseID  \\\n",
       "17442                CAT1   _RFSMOK3    RESP046   \n",
       "\n",
       "                         GeoLocation Sample_size  \n",
       "17442  (34.86597028, -111.763811277)        1023  \n",
       "\n",
       "[1 rows x 22 columns]"
      ]
     },
     "execution_count": 23,
     "metadata": {},
     "output_type": "execute_result"
    }
   ],
   "source": [
    "relavent_year_state.loc[relavent_year_state['Break_Out']=='Overall']"
   ]
  },
  {
   "cell_type": "code",
   "execution_count": 24,
   "id": "15fa2e6d",
   "metadata": {},
   "outputs": [
    {
     "data": {
      "text/plain": [
       "20.345904954499495"
      ]
     },
     "execution_count": 24,
     "metadata": {},
     "output_type": "execute_result"
    }
   ],
   "source": [
    "relavent_year_state['Data_value'].mean()"
   ]
  },
  {
   "cell_type": "code",
   "execution_count": 25,
   "id": "a4364719",
   "metadata": {},
   "outputs": [],
   "source": [
    "def state_by_subgroup(year, state, group1=low_income, group2=high_income, overall=overall):\n",
    "    relavent_year_state = tb_use_cleaned.loc[\\\n",
    "                       (tb_use_cleaned['Locationabbr'] == state) &\\\n",
    "                       (tb_use_cleaned['Year'] == year)&(tb_use_cleaned['QuestionID']=='_RFSMOK3')&\\\n",
    "                       (tb_use_cleaned['Response']=='Yes')]\n",
    "    name = relavent_year_state['Locationdesc'].iloc[0]\n",
    "#     print(relavent_year_state['Locationabbr'].unique())\n",
    "    subgroup_tobacco_use = relavent_year_state.loc[\n",
    "                       (tb_use_cleaned['BreakoutID'].isin([group1, group2]))\\\n",
    "                    ].set_index('BreakoutID')['Data_value']\n",
    "    # average proportion of people not currently smokers among all subgroups\n",
    "    overall_healthiness = 100 - relavent_year_state.loc[relavent_year_state['BreakoutID'] == overall]\\\n",
    "        .set_index('BreakoutID')['Data_value'].loc[overall]\n",
    "    \n",
    "    # diff in proportion of people that are smokers\n",
    "    diff_subgroups_smoking = subgroup_tobacco_use.loc[group1] - subgroup_tobacco_use.loc[group2]\n",
    "    \n",
    "    return name, overall_healthiness, diff_subgroups_smoking"
   ]
  },
  {
   "cell_type": "code",
   "execution_count": 26,
   "id": "f264d543",
   "metadata": {},
   "outputs": [],
   "source": [
    "def generate_scatter_data(group1, group2, overall):\n",
    "    cols = {'Year':[], 'Code':[], 'state':[], 'overall_health':[], 'diff_smoke_income':[]}\n",
    "    for year in years:\n",
    "        for state in states:\n",
    "    #         print(state, year)\n",
    "            try:\n",
    "                name, x, y = state_by_subgroup(year, state, group1=group1, group2=group2, overall=overall)\n",
    "            except:\n",
    "                name, x, y = None, None, None\n",
    "            cols['Year'].append(year)\n",
    "            cols['Code'].append(state)\n",
    "            cols['overall_health'].append(x)\n",
    "            cols['state'].append(name)\n",
    "            cols['diff_smoke_income'].append(y)\n",
    "    df = pd.DataFrame(cols)\n",
    "    df.to_csv('data/healthy_vs_income_diff.csv')\n",
    "    return df"
   ]
  },
  {
   "cell_type": "code",
   "execution_count": 28,
   "id": "ed9db64a",
   "metadata": {},
   "outputs": [],
   "source": [
    "scatter = generate_scatter_data(low_income, high_income, overall='AGE01')"
   ]
  },
  {
   "cell_type": "code",
   "execution_count": 29,
   "id": "e8f6bc7e",
   "metadata": {},
   "outputs": [
    {
     "data": {
      "text/html": [
       "<div>\n",
       "<style scoped>\n",
       "    .dataframe tbody tr th:only-of-type {\n",
       "        vertical-align: middle;\n",
       "    }\n",
       "\n",
       "    .dataframe tbody tr th {\n",
       "        vertical-align: top;\n",
       "    }\n",
       "\n",
       "    .dataframe thead th {\n",
       "        text-align: right;\n",
       "    }\n",
       "</style>\n",
       "<table border=\"1\" class=\"dataframe\">\n",
       "  <thead>\n",
       "    <tr style=\"text-align: right;\">\n",
       "      <th></th>\n",
       "      <th>Year</th>\n",
       "      <th>Code</th>\n",
       "      <th>state</th>\n",
       "      <th>overall_health</th>\n",
       "      <th>diff_smoke_income</th>\n",
       "    </tr>\n",
       "  </thead>\n",
       "  <tbody>\n",
       "    <tr>\n",
       "      <th>0</th>\n",
       "      <td>2011</td>\n",
       "      <td>NV</td>\n",
       "      <td>Nevada</td>\n",
       "      <td>82.6</td>\n",
       "      <td>20.8</td>\n",
       "    </tr>\n",
       "    <tr>\n",
       "      <th>1</th>\n",
       "      <td>2011</td>\n",
       "      <td>LA</td>\n",
       "      <td>Louisiana</td>\n",
       "      <td>77.2</td>\n",
       "      <td>15.0</td>\n",
       "    </tr>\n",
       "    <tr>\n",
       "      <th>2</th>\n",
       "      <td>2011</td>\n",
       "      <td>MA</td>\n",
       "      <td>Massachusetts</td>\n",
       "      <td>77.4</td>\n",
       "      <td>20.3</td>\n",
       "    </tr>\n",
       "    <tr>\n",
       "      <th>3</th>\n",
       "      <td>2011</td>\n",
       "      <td>WI</td>\n",
       "      <td>Wisconsin</td>\n",
       "      <td>77.0</td>\n",
       "      <td>20.1</td>\n",
       "    </tr>\n",
       "    <tr>\n",
       "      <th>4</th>\n",
       "      <td>2011</td>\n",
       "      <td>GA</td>\n",
       "      <td>Georgia</td>\n",
       "      <td>75.0</td>\n",
       "      <td>24.5</td>\n",
       "    </tr>\n",
       "  </tbody>\n",
       "</table>\n",
       "</div>"
      ],
      "text/plain": [
       "   Year Code          state  overall_health  diff_smoke_income\n",
       "0  2011   NV         Nevada            82.6               20.8\n",
       "1  2011   LA      Louisiana            77.2               15.0\n",
       "2  2011   MA  Massachusetts            77.4               20.3\n",
       "3  2011   WI      Wisconsin            77.0               20.1\n",
       "4  2011   GA        Georgia            75.0               24.5"
      ]
     },
     "execution_count": 29,
     "metadata": {},
     "output_type": "execute_result"
    }
   ],
   "source": [
    "scatter.head()"
   ]
  },
  {
   "cell_type": "code",
   "execution_count": null,
   "id": "2b1e6802",
   "metadata": {},
   "outputs": [],
   "source": [
    "progression = scatter\\\n",
    "    .groupby(['Code', 'state'])\\\n",
    "    .apply(lambda x: x['overall_health'].iloc[-1] - x['overall_health'].iloc[0])\\\n",
    "    .rename('progression').to_frame().reset_index()"
   ]
  },
  {
   "cell_type": "code",
   "execution_count": null,
   "id": "802572e7",
   "metadata": {},
   "outputs": [],
   "source": [
    "progression.head()"
   ]
  },
  {
   "cell_type": "code",
   "execution_count": null,
   "id": "bf17ce7b",
   "metadata": {},
   "outputs": [],
   "source": [
    "progression.to_csv('data/youth_progression.csv', index=False)"
   ]
  },
  {
   "cell_type": "code",
   "execution_count": null,
   "id": "fb17406c",
   "metadata": {},
   "outputs": [],
   "source": [
    "scatter_overall = generate_scatter_data(group1, group2, overall)\n",
    "progression_overall = scatter_overall\\\n",
    "    .groupby(['Code', 'state'])\\\n",
    "    .apply(lambda x: x['overall_health'].iloc[-1] - x['overall_health'].iloc[0])\\\n",
    "    .rename('progression').to_frame().reset_index()"
   ]
  },
  {
   "cell_type": "code",
   "execution_count": null,
   "id": "2a4c92f2",
   "metadata": {},
   "outputs": [],
   "source": [
    "progression_overall.head()"
   ]
  },
  {
   "cell_type": "code",
   "execution_count": null,
   "id": "048f8761",
   "metadata": {},
   "outputs": [],
   "source": [
    "progression_overall.to_csv('data/overall_progression.csv', index=False)"
   ]
  },
  {
   "cell_type": "code",
   "execution_count": null,
   "id": "7621c0a8",
   "metadata": {},
   "outputs": [],
   "source": []
  }
 ],
 "metadata": {
  "kernelspec": {
   "display_name": "Python 3",
   "language": "python",
   "name": "python3"
  },
  "language_info": {
   "codemirror_mode": {
    "name": "ipython",
    "version": 3
   },
   "file_extension": ".py",
   "mimetype": "text/x-python",
   "name": "python",
   "nbconvert_exporter": "python",
   "pygments_lexer": "ipython3",
   "version": "3.8.8"
  }
 },
 "nbformat": 4,
 "nbformat_minor": 5
}
