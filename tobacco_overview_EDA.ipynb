{
 "cells": [
  {
   "cell_type": "code",
   "execution_count": 1,
   "id": "2e25dba1",
   "metadata": {},
   "outputs": [],
   "source": [
    "import numpy as np\n",
    "import pandas as pd\n",
    "import seaborn as sns\n",
    "import matplotlib.pyplot as plt\n",
    "import os\n",
    "import json\n",
    "import plotly.express as px\n",
    "%load_ext autoreload\n",
    "%autoreload 2\n",
    "%matplotlib inline"
   ]
  },
  {
   "cell_type": "code",
   "execution_count": 29,
   "id": "de3d823f",
   "metadata": {},
   "outputs": [],
   "source": [
    "with open('config/EDA.json') as fh:\n",
    "    configs = json.load(fh)\n",
    "    DR_PATH, SALES_PATH, PRODUCTION_PATH, EDA_VIZ_PATH = configs['DR_PATH'], \\\n",
    "        configs['SALES_PATH'], configs['PRODUCTION_PATH'], configs['EDA_VIZ_PATH']"
   ]
  },
  {
   "cell_type": "code",
   "execution_count": 3,
   "id": "2bd4871f",
   "metadata": {},
   "outputs": [],
   "source": [
    "deathrate = pd.read_csv(DR_PATH)"
   ]
  },
  {
   "cell_type": "code",
   "execution_count": 13,
   "id": "cac809a5",
   "metadata": {},
   "outputs": [
    {
     "data": {
      "text/html": [
       "<div>\n",
       "<style scoped>\n",
       "    .dataframe tbody tr th:only-of-type {\n",
       "        vertical-align: middle;\n",
       "    }\n",
       "\n",
       "    .dataframe tbody tr th {\n",
       "        vertical-align: top;\n",
       "    }\n",
       "\n",
       "    .dataframe thead th {\n",
       "        text-align: right;\n",
       "    }\n",
       "</style>\n",
       "<table border=\"1\" class=\"dataframe\">\n",
       "  <thead>\n",
       "    <tr style=\"text-align: right;\">\n",
       "      <th></th>\n",
       "      <th>Entity</th>\n",
       "      <th>Code</th>\n",
       "      <th>Year</th>\n",
       "      <th>All_ages</th>\n",
       "      <th>Under_5</th>\n",
       "      <th>5_14</th>\n",
       "      <th>50_69</th>\n",
       "      <th>15_49</th>\n",
       "      <th>70_plus</th>\n",
       "    </tr>\n",
       "  </thead>\n",
       "  <tbody>\n",
       "    <tr>\n",
       "      <th>6076</th>\n",
       "      <td>United States</td>\n",
       "      <td>USA</td>\n",
       "      <td>1990</td>\n",
       "      <td>218.205188</td>\n",
       "      <td>0.0</td>\n",
       "      <td>0.0</td>\n",
       "      <td>483.805371</td>\n",
       "      <td>21.358422</td>\n",
       "      <td>1495.256328</td>\n",
       "    </tr>\n",
       "    <tr>\n",
       "      <th>6077</th>\n",
       "      <td>United States</td>\n",
       "      <td>USA</td>\n",
       "      <td>1991</td>\n",
       "      <td>211.072560</td>\n",
       "      <td>0.0</td>\n",
       "      <td>0.0</td>\n",
       "      <td>465.781286</td>\n",
       "      <td>20.876842</td>\n",
       "      <td>1438.243277</td>\n",
       "    </tr>\n",
       "    <tr>\n",
       "      <th>6078</th>\n",
       "      <td>United States</td>\n",
       "      <td>USA</td>\n",
       "      <td>1992</td>\n",
       "      <td>202.986120</td>\n",
       "      <td>0.0</td>\n",
       "      <td>0.0</td>\n",
       "      <td>443.252973</td>\n",
       "      <td>20.359886</td>\n",
       "      <td>1376.965452</td>\n",
       "    </tr>\n",
       "    <tr>\n",
       "      <th>6079</th>\n",
       "      <td>United States</td>\n",
       "      <td>USA</td>\n",
       "      <td>1993</td>\n",
       "      <td>201.382026</td>\n",
       "      <td>0.0</td>\n",
       "      <td>0.0</td>\n",
       "      <td>433.081988</td>\n",
       "      <td>20.304446</td>\n",
       "      <td>1362.063644</td>\n",
       "    </tr>\n",
       "    <tr>\n",
       "      <th>6080</th>\n",
       "      <td>United States</td>\n",
       "      <td>USA</td>\n",
       "      <td>1994</td>\n",
       "      <td>195.739213</td>\n",
       "      <td>0.0</td>\n",
       "      <td>0.0</td>\n",
       "      <td>414.054227</td>\n",
       "      <td>19.819550</td>\n",
       "      <td>1324.467104</td>\n",
       "    </tr>\n",
       "  </tbody>\n",
       "</table>\n",
       "</div>"
      ],
      "text/plain": [
       "             Entity Code  Year    All_ages  Under_5  5_14       50_69  \\\n",
       "6076  United States  USA  1990  218.205188      0.0   0.0  483.805371   \n",
       "6077  United States  USA  1991  211.072560      0.0   0.0  465.781286   \n",
       "6078  United States  USA  1992  202.986120      0.0   0.0  443.252973   \n",
       "6079  United States  USA  1993  201.382026      0.0   0.0  433.081988   \n",
       "6080  United States  USA  1994  195.739213      0.0   0.0  414.054227   \n",
       "\n",
       "          15_49      70_plus  \n",
       "6076  21.358422  1495.256328  \n",
       "6077  20.876842  1438.243277  \n",
       "6078  20.359886  1376.965452  \n",
       "6079  20.304446  1362.063644  \n",
       "6080  19.819550  1324.467104  "
      ]
     },
     "execution_count": 13,
     "metadata": {},
     "output_type": "execute_result"
    }
   ],
   "source": [
    "dr_usa = deathrate.copy().loc[deathrate['Code'] =='USA']\n",
    "dr_usa.head()"
   ]
  },
  {
   "cell_type": "code",
   "execution_count": 36,
   "id": "6069d77b",
   "metadata": {},
   "outputs": [
    {
     "data": {
      "image/png": "[encoded data removed]",
      "text/plain": [
       "<Figure size 432x288 with 1 Axes>"
      ]
     },
     "metadata": {
      "needs_background": "light"
     },
     "output_type": "display_data"
    }
   ],
   "source": [
    "sns.lineplot(data=dr_usa.set_index('Year').iloc[:, [2, 5, 6, 7]]).get_figure().savefig(f'{EDA_VIZ_PATH}/death_rate_US.png')"
   ]
  },
  {
   "cell_type": "code",
   "execution_count": 25,
   "id": "73cad4d6",
   "metadata": {
    "scrolled": true
   },
   "outputs": [
    {
     "data": {
      "text/html": [
       "<div>\n",
       "<style scoped>\n",
       "    .dataframe tbody tr th:only-of-type {\n",
       "        vertical-align: middle;\n",
       "    }\n",
       "\n",
       "    .dataframe tbody tr th {\n",
       "        vertical-align: top;\n",
       "    }\n",
       "\n",
       "    .dataframe thead th {\n",
       "        text-align: right;\n",
       "    }\n",
       "</style>\n",
       "<table border=\"1\" class=\"dataframe\">\n",
       "  <thead>\n",
       "    <tr style=\"text-align: right;\">\n",
       "      <th></th>\n",
       "      <th>Entity</th>\n",
       "      <th>Code</th>\n",
       "      <th>Year</th>\n",
       "      <th>amt</th>\n",
       "    </tr>\n",
       "  </thead>\n",
       "  <tbody>\n",
       "    <tr>\n",
       "      <th>2605</th>\n",
       "      <td>United States</td>\n",
       "      <td>USA</td>\n",
       "      <td>1900</td>\n",
       "      <td>0.1</td>\n",
       "    </tr>\n",
       "    <tr>\n",
       "      <th>2606</th>\n",
       "      <td>United States</td>\n",
       "      <td>USA</td>\n",
       "      <td>1901</td>\n",
       "      <td>0.1</td>\n",
       "    </tr>\n",
       "    <tr>\n",
       "      <th>2607</th>\n",
       "      <td>United States</td>\n",
       "      <td>USA</td>\n",
       "      <td>1902</td>\n",
       "      <td>0.1</td>\n",
       "    </tr>\n",
       "    <tr>\n",
       "      <th>2608</th>\n",
       "      <td>United States</td>\n",
       "      <td>USA</td>\n",
       "      <td>1903</td>\n",
       "      <td>0.1</td>\n",
       "    </tr>\n",
       "    <tr>\n",
       "      <th>2609</th>\n",
       "      <td>United States</td>\n",
       "      <td>USA</td>\n",
       "      <td>1904</td>\n",
       "      <td>0.2</td>\n",
       "    </tr>\n",
       "  </tbody>\n",
       "</table>\n",
       "</div>"
      ],
      "text/plain": [
       "             Entity Code  Year  amt\n",
       "2605  United States  USA  1900  0.1\n",
       "2606  United States  USA  1901  0.1\n",
       "2607  United States  USA  1902  0.1\n",
       "2608  United States  USA  1903  0.1\n",
       "2609  United States  USA  1904  0.2"
      ]
     },
     "execution_count": 25,
     "metadata": {},
     "output_type": "execute_result"
    }
   ],
   "source": [
    "sales = pd.read_csv(SALES_PATH)\n",
    "sales_us = sales.loc[sales['Code'] == 'USA']\n",
    "sales_us.head()"
   ]
  },
  {
   "cell_type": "code",
   "execution_count": 37,
   "id": "e974adbb",
   "metadata": {},
   "outputs": [
    {
     "data": {
      "text/plain": [
       "Text(0.5, 1.0, 'tobacco sales in US')"
      ]
     },
     "execution_count": 37,
     "metadata": {},
     "output_type": "execute_result"
    },
    {
     "data": {
      "image/png": "[encoded data removed]",
      "text/plain": [
       "<Figure size 432x288 with 1 Axes>"
      ]
     },
     "metadata": {
      "needs_background": "light"
     },
     "output_type": "display_data"
    }
   ],
   "source": [
    "sns.lineplot(data=sales_us, x='Year', y='amt').set_title('tobacco sales in US')"
   ]
  },
  {
   "cell_type": "code",
   "execution_count": null,
   "id": "8a0dbfa3",
   "metadata": {},
   "outputs": [],
   "source": []
  }
 ],
 "metadata": {
  "kernelspec": {
   "display_name": "Python 3",
   "language": "python",
   "name": "python3"
  },
  "language_info": {
   "codemirror_mode": {
    "name": "ipython",
    "version": 3
   },
   "file_extension": ".py",
   "mimetype": "text/x-python",
   "name": "python",
   "nbconvert_exporter": "python",
   "pygments_lexer": "ipython3",
   "version": "3.8.8"
  }
 },
 "nbformat": 4,
 "nbformat_minor": 5
}
