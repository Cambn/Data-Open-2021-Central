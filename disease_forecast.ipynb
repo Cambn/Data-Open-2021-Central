{
 "cells": [
  {
   "cell_type": "code",
   "execution_count": 1,
   "id": "b3e6678f",
   "metadata": {},
   "outputs": [],
   "source": [
    "import numpy as np\n",
    "import pandas as pd\n",
    "import seaborn as sns\n",
    "import matplotlib.pyplot as plt\n",
    "import os\n",
    "import json"
   ]
  },
  {
   "cell_type": "code",
   "execution_count": 2,
   "id": "c32a8db6",
   "metadata": {},
   "outputs": [],
   "source": [
    "clustering = {}"
   ]
  },
  {
   "cell_type": "code",
   "execution_count": 4,
   "id": "ae085617",
   "metadata": {},
   "outputs": [],
   "source": [
    "clustering['chronic_resp_both_0'] = ['Ohio', 'North Carolina', 'Missouri', 'South Dakota', 'Kentucky',\n",
    "       'Arkansas', 'Iowa', 'Alabama', 'Wisconsin', 'Nebraska',\n",
    "       'Tennessee', 'Indiana', 'Oklahoma', 'Mississippi', 'Kansas',\n",
    "       'South Carolina', 'North Dakota', 'Louisiana']"
   ]
  },
  {
   "cell_type": "code",
   "execution_count": 6,
   "id": "27b50546",
   "metadata": {},
   "outputs": [],
   "source": [
    "clustering['chronic_resp_both_1']= ['Washington', 'Hawaii', 'Colorado', 'New Mexico', 'Vermont',\n",
    "       'Alaska', 'Utah', 'District of Columbia', 'New Jersey', 'Montana',\n",
    "       'Wyoming', 'Pennsylvania', 'Nevada', 'New York', 'Virginia',\n",
    "       'Maryland', 'California', 'Arizona']"
   ]
  },
  {
   "cell_type": "code",
   "execution_count": 7,
   "id": "d491a859",
   "metadata": {},
   "outputs": [],
   "source": [
    "clustering['chronic_resp_both_2'] = ['New Hampshire', 'Oregon', 'Maine', 'Texas', 'Florida', 'Illinois',\n",
    "       'Delaware', 'Rhode Island', 'Minnesota', 'Connecticut',\n",
    "       'Massachusetts', 'West Virginia', 'Michigan', 'Georgia', 'Idaho']"
   ]
  },
  {
   "cell_type": "code",
   "execution_count": 12,
   "id": "d1169eab",
   "metadata": {},
   "outputs": [],
   "source": [
    "df = {'state':[], 'label':[]}"
   ]
  },
  {
   "cell_type": "code",
   "execution_count": 13,
   "id": "fc5356f2",
   "metadata": {},
   "outputs": [],
   "source": [
    "for key in clustering.keys():\n",
    "    label = key.split('_')[-1]\n",
    "    states = clustering[key]\n",
    "    N = len(states)\n",
    "    df['state'].extend(states)\n",
    "    df['label'].extend([int(label)]*N)"
   ]
  },
  {
   "cell_type": "code",
   "execution_count": 15,
   "id": "8fcdb7e2",
   "metadata": {},
   "outputs": [],
   "source": [
    "pd.DataFrame(df).to_csv('data/mortality_clusters.csv')"
   ]
  },
  {
   "cell_type": "code",
   "execution_count": null,
   "id": "fc6aa2a8",
   "metadata": {},
   "outputs": [],
   "source": []
  }
 ],
 "metadata": {
  "kernelspec": {
   "display_name": "Python 3",
   "language": "python",
   "name": "python3"
  },
  "language_info": {
   "codemirror_mode": {
    "name": "ipython",
    "version": 3
   },
   "file_extension": ".py",
   "mimetype": "text/x-python",
   "name": "python",
   "nbconvert_exporter": "python",
   "pygments_lexer": "ipython3",
   "version": "3.8.8"
  }
 },
 "nbformat": 4,
 "nbformat_minor": 5
}
