{
 "cells": [
  {
   "cell_type": "code",
   "execution_count": 11,
   "id": "fc2a2d62",
   "metadata": {},
   "outputs": [
    {
     "name": "stdout",
     "output_type": "stream",
     "text": [
      "The autoreload extension is already loaded. To reload it, use:\n",
      "  %reload_ext autoreload\n"
     ]
    }
   ],
   "source": [
    "import numpy as np\n",
    "import pandas as pd\n",
    "import seaborn as sns\n",
    "import matplotlib.pyplot as plt\n",
    "import os\n",
    "import json\n",
    "import plotly.express as px\n",
    "%load_ext autoreload\n",
    "%autoreload 2\n",
    "%matplotlib inline"
   ]
  },
  {
   "cell_type": "code",
   "execution_count": 2,
   "id": "90b79b7d",
   "metadata": {},
   "outputs": [],
   "source": [
    "with open('config/EDA.json') as fh:\n",
    "    configs = json.load(fh)\n",
    "    EDA_VIZ_PATH, TB_US_PATH = configs['EDA_VIZ_PATH'], configs['TB_US_PATH']"
   ]
  },
  {
   "cell_type": "code",
   "execution_count": 3,
   "id": "b7c018c8",
   "metadata": {},
   "outputs": [],
   "source": [
    "tb_use  = pd.read_csv(TB_US_PATH)"
   ]
  },
  {
   "cell_type": "code",
   "execution_count": 9,
   "id": "4b10ec95",
   "metadata": {
    "scrolled": false
   },
   "outputs": [
    {
     "data": {
      "text/html": [
       "<div>\n",
       "<style scoped>\n",
       "    .dataframe tbody tr th:only-of-type {\n",
       "        vertical-align: middle;\n",
       "    }\n",
       "\n",
       "    .dataframe tbody tr th {\n",
       "        vertical-align: top;\n",
       "    }\n",
       "\n",
       "    .dataframe thead th {\n",
       "        text-align: right;\n",
       "    }\n",
       "</style>\n",
       "<table border=\"1\" class=\"dataframe\">\n",
       "  <thead>\n",
       "    <tr style=\"text-align: right;\">\n",
       "      <th></th>\n",
       "      <th>Year</th>\n",
       "      <th>Locationabbr</th>\n",
       "      <th>Locationdesc</th>\n",
       "      <th>Topic</th>\n",
       "      <th>Question</th>\n",
       "      <th>Response</th>\n",
       "      <th>Break_Out</th>\n",
       "      <th>Break_Out_Category</th>\n",
       "      <th>Sample_Size</th>\n",
       "      <th>Data_value</th>\n",
       "      <th>...</th>\n",
       "      <th>Confidence_limit_High</th>\n",
       "      <th>Data_value_unit</th>\n",
       "      <th>Data_value_type</th>\n",
       "      <th>Data_Value_Footnote</th>\n",
       "      <th>LocationID</th>\n",
       "      <th>BreakoutID</th>\n",
       "      <th>BreakOutCategoryID</th>\n",
       "      <th>QuestionID</th>\n",
       "      <th>ResponseID</th>\n",
       "      <th>GeoLocation</th>\n",
       "    </tr>\n",
       "  </thead>\n",
       "  <tbody>\n",
       "    <tr>\n",
       "      <th>0</th>\n",
       "      <td>2019</td>\n",
       "      <td>KS</td>\n",
       "      <td>Kansas</td>\n",
       "      <td>Smokeless Tobacco</td>\n",
       "      <td>Do you currently use chewing tobacco, snuff, o...</td>\n",
       "      <td>Every day</td>\n",
       "      <td>25-34</td>\n",
       "      <td>Age Group</td>\n",
       "      <td>52</td>\n",
       "      <td>4.31</td>\n",
       "      <td>...</td>\n",
       "      <td>5.60</td>\n",
       "      <td>%</td>\n",
       "      <td>Crude Prevalence</td>\n",
       "      <td>NaN</td>\n",
       "      <td>20</td>\n",
       "      <td>AGE02</td>\n",
       "      <td>CAT3</td>\n",
       "      <td>USENOW3</td>\n",
       "      <td>RESP079</td>\n",
       "      <td>(38.34774030000045, -98.20078122699965)</td>\n",
       "    </tr>\n",
       "    <tr>\n",
       "      <th>1</th>\n",
       "      <td>2019</td>\n",
       "      <td>KS</td>\n",
       "      <td>Kansas</td>\n",
       "      <td>Smokeless Tobacco</td>\n",
       "      <td>Do you currently use chewing tobacco, snuff, o...</td>\n",
       "      <td>Some days</td>\n",
       "      <td>Female</td>\n",
       "      <td>Gender</td>\n",
       "      <td>17</td>\n",
       "      <td>0.40</td>\n",
       "      <td>...</td>\n",
       "      <td>0.62</td>\n",
       "      <td>%</td>\n",
       "      <td>Crude Prevalence</td>\n",
       "      <td>NaN</td>\n",
       "      <td>20</td>\n",
       "      <td>SEX2</td>\n",
       "      <td>CAT2</td>\n",
       "      <td>USENOW3</td>\n",
       "      <td>RESP080</td>\n",
       "      <td>(38.34774030000045, -98.20078122699965)</td>\n",
       "    </tr>\n",
       "  </tbody>\n",
       "</table>\n",
       "<p>2 rows × 21 columns</p>\n",
       "</div>"
      ],
      "text/plain": [
       "   Year Locationabbr Locationdesc              Topic  \\\n",
       "0  2019           KS       Kansas  Smokeless Tobacco   \n",
       "1  2019           KS       Kansas  Smokeless Tobacco   \n",
       "\n",
       "                                            Question   Response Break_Out  \\\n",
       "0  Do you currently use chewing tobacco, snuff, o...  Every day     25-34   \n",
       "1  Do you currently use chewing tobacco, snuff, o...  Some days    Female   \n",
       "\n",
       "  Break_Out_Category Sample_Size  Data_value  ...  Confidence_limit_High  \\\n",
       "0          Age Group          52        4.31  ...                   5.60   \n",
       "1             Gender          17        0.40  ...                   0.62   \n",
       "\n",
       "   Data_value_unit   Data_value_type Data_Value_Footnote LocationID  \\\n",
       "0                %  Crude Prevalence                 NaN         20   \n",
       "1                %  Crude Prevalence                 NaN         20   \n",
       "\n",
       "   BreakoutID BreakOutCategoryID QuestionID ResponseID  \\\n",
       "0       AGE02               CAT3    USENOW3    RESP079   \n",
       "1        SEX2               CAT2    USENOW3    RESP080   \n",
       "\n",
       "                               GeoLocation  \n",
       "0  (38.34774030000045, -98.20078122699965)  \n",
       "1  (38.34774030000045, -98.20078122699965)  \n",
       "\n",
       "[2 rows x 21 columns]"
      ]
     },
     "execution_count": 9,
     "metadata": {},
     "output_type": "execute_result"
    }
   ],
   "source": [
    "tb_use.head(2)"
   ]
  },
  {
   "cell_type": "code",
   "execution_count": 10,
   "id": "bf185b2e",
   "metadata": {},
   "outputs": [
    {
     "data": {
      "text/plain": [
       "MN    2094\n",
       "AZ    2094\n",
       "NC    2094\n",
       "RI    2094\n",
       "DE    2094\n",
       "OK    2094\n",
       "GA    2094\n",
       "NE    2094\n",
       "IN    2094\n",
       "MO    2094\n",
       "LA    2094\n",
       "CO    2094\n",
       "WA    2094\n",
       "SC    2094\n",
       "MI    2094\n",
       "TX    2094\n",
       "IA    2094\n",
       "KY    2094\n",
       "KS    2094\n",
       "MD    2093\n",
       "NM    2093\n",
       "UT    2093\n",
       "WI    2093\n",
       "IL    2093\n",
       "CA    2093\n",
       "OR    2093\n",
       "HI    2093\n",
       "VA    2093\n",
       "PA    2093\n",
       "OH    2093\n",
       "FL    2093\n",
       "NY    2092\n",
       "NV    2092\n",
       "ND    2092\n",
       "TN    2092\n",
       "AR    2092\n",
       "CT    2092\n",
       "AL    2092\n",
       "MA    2092\n",
       "MT    2092\n",
       "AK    2092\n",
       "WV    2092\n",
       "ME    2091\n",
       "WY    2091\n",
       "SD    2091\n",
       "VT    2091\n",
       "NH    2090\n",
       "MS    2089\n",
       "DC    2089\n",
       "ID    2089\n",
       "GU    2088\n",
       "PR    2064\n",
       "NJ    1859\n",
       "VI     234\n",
       "UW      84\n",
       "US      84\n",
       "Name: Locationabbr, dtype: int64"
      ]
     },
     "execution_count": 10,
     "metadata": {},
     "output_type": "execute_result"
    }
   ],
   "source": [
    "tb_use['Locationabbr'].value_counts()"
   ]
  },
  {
   "cell_type": "code",
   "execution_count": null,
   "id": "09aa74c4",
   "metadata": {},
   "outputs": [],
   "source": []
  }
 ],
 "metadata": {
  "kernelspec": {
   "display_name": "Python 3",
   "language": "python",
   "name": "python3"
  },
  "language_info": {
   "codemirror_mode": {
    "name": "ipython",
    "version": 3
   },
   "file_extension": ".py",
   "mimetype": "text/x-python",
   "name": "python",
   "nbconvert_exporter": "python",
   "pygments_lexer": "ipython3",
   "version": "3.8.8"
  }
 },
 "nbformat": 4,
 "nbformat_minor": 5
}
