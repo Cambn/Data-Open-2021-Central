{
 "cells": [
  {
   "cell_type": "code",
   "execution_count": 64,
   "id": "07d3db7b",
   "metadata": {},
   "outputs": [
    {
     "name": "stdout",
     "output_type": "stream",
     "text": [
      "The autoreload extension is already loaded. To reload it, use:\n",
      "  %reload_ext autoreload\n"
     ]
    }
   ],
   "source": [
    "import numpy as np\n",
    "import pandas as pd\n",
    "import seaborn as sns\n",
    "import matplotlib.pyplot as plt\n",
    "import os\n",
    "import json\n",
    "import plotly.express as px\n",
    "%load_ext autoreload\n",
    "%autoreload 2\n",
    "%matplotlib inline"
   ]
  },
  {
   "cell_type": "code",
   "execution_count": 2,
   "id": "1b90c3e1",
   "metadata": {},
   "outputs": [],
   "source": [
    "with open('config/EDA.json') as fh:\n",
    "    configs = json.load(fh)\n",
    "    EDA_VIZ_PATH, TB_US_PATH = configs['EDA_VIZ_PATH'], configs['TB_US_PATH']"
   ]
  },
  {
   "cell_type": "code",
   "execution_count": 33,
   "id": "f8d57f60",
   "metadata": {},
   "outputs": [
    {
     "data": {
      "text/html": [
       "<div>\n",
       "<style scoped>\n",
       "    .dataframe tbody tr th:only-of-type {\n",
       "        vertical-align: middle;\n",
       "    }\n",
       "\n",
       "    .dataframe tbody tr th {\n",
       "        vertical-align: top;\n",
       "    }\n",
       "\n",
       "    .dataframe thead th {\n",
       "        text-align: right;\n",
       "    }\n",
       "</style>\n",
       "<table border=\"1\" class=\"dataframe\">\n",
       "  <thead>\n",
       "    <tr style=\"text-align: right;\">\n",
       "      <th></th>\n",
       "      <th>Year</th>\n",
       "      <th>Locationabbr</th>\n",
       "      <th>Locationdesc</th>\n",
       "      <th>Topic</th>\n",
       "      <th>Question</th>\n",
       "      <th>Response</th>\n",
       "      <th>Break_Out</th>\n",
       "      <th>Break_Out_Category</th>\n",
       "      <th>Sample_Size</th>\n",
       "      <th>Data_value</th>\n",
       "      <th>...</th>\n",
       "      <th>Confidence_limit_High</th>\n",
       "      <th>Data_value_unit</th>\n",
       "      <th>Data_value_type</th>\n",
       "      <th>Data_Value_Footnote</th>\n",
       "      <th>LocationID</th>\n",
       "      <th>BreakoutID</th>\n",
       "      <th>BreakOutCategoryID</th>\n",
       "      <th>QuestionID</th>\n",
       "      <th>ResponseID</th>\n",
       "      <th>GeoLocation</th>\n",
       "    </tr>\n",
       "  </thead>\n",
       "  <tbody>\n",
       "    <tr>\n",
       "      <th>0</th>\n",
       "      <td>2019</td>\n",
       "      <td>KS</td>\n",
       "      <td>Kansas</td>\n",
       "      <td>Smokeless Tobacco</td>\n",
       "      <td>Do you currently use chewing tobacco, snuff, o...</td>\n",
       "      <td>Every day</td>\n",
       "      <td>25-34</td>\n",
       "      <td>Age Group</td>\n",
       "      <td>52</td>\n",
       "      <td>4.31</td>\n",
       "      <td>...</td>\n",
       "      <td>5.60</td>\n",
       "      <td>%</td>\n",
       "      <td>Crude Prevalence</td>\n",
       "      <td>NaN</td>\n",
       "      <td>20</td>\n",
       "      <td>AGE02</td>\n",
       "      <td>CAT3</td>\n",
       "      <td>USENOW3</td>\n",
       "      <td>RESP079</td>\n",
       "      <td>(38.34774030000045, -98.20078122699965)</td>\n",
       "    </tr>\n",
       "    <tr>\n",
       "      <th>1</th>\n",
       "      <td>2019</td>\n",
       "      <td>KS</td>\n",
       "      <td>Kansas</td>\n",
       "      <td>Smokeless Tobacco</td>\n",
       "      <td>Do you currently use chewing tobacco, snuff, o...</td>\n",
       "      <td>Some days</td>\n",
       "      <td>Female</td>\n",
       "      <td>Gender</td>\n",
       "      <td>17</td>\n",
       "      <td>0.40</td>\n",
       "      <td>...</td>\n",
       "      <td>0.62</td>\n",
       "      <td>%</td>\n",
       "      <td>Crude Prevalence</td>\n",
       "      <td>NaN</td>\n",
       "      <td>20</td>\n",
       "      <td>SEX2</td>\n",
       "      <td>CAT2</td>\n",
       "      <td>USENOW3</td>\n",
       "      <td>RESP080</td>\n",
       "      <td>(38.34774030000045, -98.20078122699965)</td>\n",
       "    </tr>\n",
       "    <tr>\n",
       "      <th>2</th>\n",
       "      <td>2019</td>\n",
       "      <td>KS</td>\n",
       "      <td>Kansas</td>\n",
       "      <td>Smoker Status</td>\n",
       "      <td>Four Level Smoking Status (variable calculated...</td>\n",
       "      <td>Never smoked</td>\n",
       "      <td>65+</td>\n",
       "      <td>Age Group</td>\n",
       "      <td>2,150</td>\n",
       "      <td>54.32</td>\n",
       "      <td>...</td>\n",
       "      <td>56.18</td>\n",
       "      <td>%</td>\n",
       "      <td>Crude Prevalence</td>\n",
       "      <td>NaN</td>\n",
       "      <td>20</td>\n",
       "      <td>AGE09</td>\n",
       "      <td>CAT3</td>\n",
       "      <td>_SMOKER3</td>\n",
       "      <td>RESP071</td>\n",
       "      <td>(38.34774030000045, -98.20078122699965)</td>\n",
       "    </tr>\n",
       "  </tbody>\n",
       "</table>\n",
       "<p>3 rows × 21 columns</p>\n",
       "</div>"
      ],
      "text/plain": [
       "   Year Locationabbr Locationdesc              Topic  \\\n",
       "0  2019           KS       Kansas  Smokeless Tobacco   \n",
       "1  2019           KS       Kansas  Smokeless Tobacco   \n",
       "2  2019           KS       Kansas      Smoker Status   \n",
       "\n",
       "                                            Question      Response Break_Out  \\\n",
       "0  Do you currently use chewing tobacco, snuff, o...     Every day     25-34   \n",
       "1  Do you currently use chewing tobacco, snuff, o...     Some days    Female   \n",
       "2  Four Level Smoking Status (variable calculated...  Never smoked       65+   \n",
       "\n",
       "  Break_Out_Category Sample_Size  Data_value  ...  Confidence_limit_High  \\\n",
       "0          Age Group          52        4.31  ...                   5.60   \n",
       "1             Gender          17        0.40  ...                   0.62   \n",
       "2          Age Group       2,150       54.32  ...                  56.18   \n",
       "\n",
       "   Data_value_unit   Data_value_type Data_Value_Footnote LocationID  \\\n",
       "0                %  Crude Prevalence                 NaN         20   \n",
       "1                %  Crude Prevalence                 NaN         20   \n",
       "2                %  Crude Prevalence                 NaN         20   \n",
       "\n",
       "   BreakoutID BreakOutCategoryID QuestionID ResponseID  \\\n",
       "0       AGE02               CAT3    USENOW3    RESP079   \n",
       "1        SEX2               CAT2    USENOW3    RESP080   \n",
       "2       AGE09               CAT3   _SMOKER3    RESP071   \n",
       "\n",
       "                               GeoLocation  \n",
       "0  (38.34774030000045, -98.20078122699965)  \n",
       "1  (38.34774030000045, -98.20078122699965)  \n",
       "2  (38.34774030000045, -98.20078122699965)  \n",
       "\n",
       "[3 rows x 21 columns]"
      ]
     },
     "execution_count": 33,
     "metadata": {},
     "output_type": "execute_result"
    }
   ],
   "source": [
    "tb_use  = pd.read_csv(TB_US_PATH)\n",
    "tb_use.head(3)"
   ]
  },
  {
   "cell_type": "code",
   "execution_count": 34,
   "id": "0c9a5680",
   "metadata": {},
   "outputs": [
    {
     "data": {
      "text/plain": [
       "(111048, 21)"
      ]
     },
     "execution_count": 34,
     "metadata": {},
     "output_type": "execute_result"
    }
   ],
   "source": [
    "tb_use.shape"
   ]
  },
  {
   "cell_type": "markdown",
   "id": "a4f1ef90",
   "metadata": {},
   "source": [
    "# Preliminary"
   ]
  },
  {
   "cell_type": "markdown",
   "id": "ba772bb9",
   "metadata": {},
   "source": [
    "Locationdesc: state abbr + UW (all states and DC (median)) and US (united states). Does not have equal participation"
   ]
  },
  {
   "cell_type": "code",
   "execution_count": 57,
   "id": "1ce85cad",
   "metadata": {},
   "outputs": [],
   "source": [
    "# tb_use['Locationabbr'].value_counts().head()"
   ]
  },
  {
   "cell_type": "markdown",
   "id": "396a4597",
   "metadata": {},
   "source": [
    "Topic - Quesion is 1 on 1  \n",
    "Smoker Status - Four Level Smoking Status (variable calculated from one or more BRFSS questions)  \n",
    "Smokeless Tobacco - Do you currently use chewing tobacco, snuff, or snus?  \n",
    "Current Smoker Status - Adults who are current smokers (variable calculated from one or more BRFSS questions)"
   ]
  },
  {
   "cell_type": "code",
   "execution_count": 56,
   "id": "b6baae53",
   "metadata": {},
   "outputs": [],
   "source": [
    "# tb_use.groupby('Topic')['Question'].apply(lambda x: len(set(x)))\n",
    "# tb_use['Topic'].value_counts()\n",
    "# tb_use['Question'].value_counts()"
   ]
  },
  {
   "cell_type": "code",
   "execution_count": 22,
   "id": "8a015bb7",
   "metadata": {},
   "outputs": [],
   "source": [
    "state_occur = tb_use['Locationabbr']\\\n",
    "    .value_counts().to_frame().reset_index()\\\n",
    "    .rename(columns = {'index':'code', 'Locationabbr':'num_records'})"
   ]
  },
  {
   "cell_type": "markdown",
   "id": "71df4725",
   "metadata": {},
   "source": [
    "breakouts"
   ]
  },
  {
   "cell_type": "code",
   "execution_count": 63,
   "id": "4955db92",
   "metadata": {},
   "outputs": [
    {
     "data": {
      "text/html": [
       "<div>\n",
       "<style scoped>\n",
       "    .dataframe tbody tr th:only-of-type {\n",
       "        vertical-align: middle;\n",
       "    }\n",
       "\n",
       "    .dataframe tbody tr th {\n",
       "        vertical-align: top;\n",
       "    }\n",
       "\n",
       "    .dataframe thead th {\n",
       "        text-align: right;\n",
       "    }\n",
       "</style>\n",
       "<table border=\"1\" class=\"dataframe\">\n",
       "  <thead>\n",
       "    <tr style=\"text-align: right;\">\n",
       "      <th></th>\n",
       "      <th></th>\n",
       "      <th>Locationabbr</th>\n",
       "    </tr>\n",
       "    <tr>\n",
       "      <th>Question</th>\n",
       "      <th>Break_Out</th>\n",
       "      <th></th>\n",
       "    </tr>\n",
       "  </thead>\n",
       "  <tbody>\n",
       "    <tr>\n",
       "      <th rowspan=\"5\" valign=\"top\">Adults who are current smokers (variable calculated from one or more BRFSS questions)</th>\n",
       "      <th>$15,000-$24,999</th>\n",
       "      <td>1060</td>\n",
       "    </tr>\n",
       "    <tr>\n",
       "      <th>$25,000-$34,999</th>\n",
       "      <td>1060</td>\n",
       "    </tr>\n",
       "    <tr>\n",
       "      <th>$35,000-$49,999</th>\n",
       "      <td>1060</td>\n",
       "    </tr>\n",
       "    <tr>\n",
       "      <th>$50,000+</th>\n",
       "      <td>1060</td>\n",
       "    </tr>\n",
       "    <tr>\n",
       "      <th>18-24</th>\n",
       "      <td>1060</td>\n",
       "    </tr>\n",
       "    <tr>\n",
       "      <th>...</th>\n",
       "      <th>...</th>\n",
       "      <td>...</td>\n",
       "    </tr>\n",
       "    <tr>\n",
       "      <th rowspan=\"5\" valign=\"top\">Four Level Smoking Status (variable calculated from one or more BRFSS questions)</th>\n",
       "      <th>Native Hawaiian or other Pacific Islander, non-Hispanic</th>\n",
       "      <td>1272</td>\n",
       "    </tr>\n",
       "    <tr>\n",
       "      <th>Other, non-Hispanic</th>\n",
       "      <td>2120</td>\n",
       "    </tr>\n",
       "    <tr>\n",
       "      <th>Overall</th>\n",
       "      <td>2200</td>\n",
       "    </tr>\n",
       "    <tr>\n",
       "      <th>Some post-H.S.</th>\n",
       "      <td>2120</td>\n",
       "    </tr>\n",
       "    <tr>\n",
       "      <th>White, non-Hispanic</th>\n",
       "      <td>2119</td>\n",
       "    </tr>\n",
       "  </tbody>\n",
       "</table>\n",
       "<p>78 rows × 1 columns</p>\n",
       "</div>"
      ],
      "text/plain": [
       "                                                                                                       Locationabbr\n",
       "Question                                           Break_Out                                                       \n",
       "Adults who are current smokers (variable calcul... $15,000-$24,999                                             1060\n",
       "                                                   $25,000-$34,999                                             1060\n",
       "                                                   $35,000-$49,999                                             1060\n",
       "                                                   $50,000+                                                    1060\n",
       "                                                   18-24                                                       1060\n",
       "...                                                                                                             ...\n",
       "Four Level Smoking Status (variable calculated ... Native Hawaiian or other Pacific Islander, non-...          1272\n",
       "                                                   Other, non-Hispanic                                         2120\n",
       "                                                   Overall                                                     2200\n",
       "                                                   Some post-H.S.                                              2120\n",
       "                                                   White, non-Hispanic                                         2119\n",
       "\n",
       "[78 rows x 1 columns]"
      ]
     },
     "execution_count": 63,
     "metadata": {},
     "output_type": "execute_result"
    }
   ],
   "source": [
    "tb_use.groupby(['Question', 'Break_Out'])[['Locationabbr']].count()"
   ]
  },
  {
   "cell_type": "markdown",
   "id": "1d8cb123",
   "metadata": {},
   "source": [
    "Missingness"
   ]
  },
  {
   "cell_type": "code",
   "execution_count": 53,
   "id": "402bed72",
   "metadata": {},
   "outputs": [
    {
     "data": {
      "text/plain": [
       "Year                     0.000000\n",
       "Locationabbr             0.000000\n",
       "Locationdesc             0.000000\n",
       "Topic                    0.000000\n",
       "Question                 0.000000\n",
       "Response                 0.000000\n",
       "Break_Out                0.000000\n",
       "Break_Out_Category       0.000000\n",
       "Sample_Size              0.000000\n",
       "Data_value               0.194637\n",
       "Confidence_limit_Low     0.196149\n",
       "Confidence_limit_High    0.196149\n",
       "Data_value_unit          0.000000\n",
       "Data_value_type          0.000000\n",
       "Data_Value_Footnote      0.805363\n",
       "LocationID               0.000000\n",
       "BreakoutID               0.000000\n",
       "BreakOutCategoryID       0.000000\n",
       "QuestionID               0.000000\n",
       "ResponseID               0.000000\n",
       "GeoLocation              0.001513\n",
       "dtype: float64"
      ]
     },
     "execution_count": 53,
     "metadata": {},
     "output_type": "execute_result"
    }
   ],
   "source": [
    "tb_use.isna().mean(axis = 0)"
   ]
  }
 ],
 "metadata": {
  "kernelspec": {
   "display_name": "Python 3",
   "language": "python",
   "name": "python3"
  },
  "language_info": {
   "codemirror_mode": {
    "name": "ipython",
    "version": 3
   },
   "file_extension": ".py",
   "mimetype": "text/x-python",
   "name": "python",
   "nbconvert_exporter": "python",
   "pygments_lexer": "ipython3",
   "version": "3.8.8"
  }
 },
 "nbformat": 4,
 "nbformat_minor": 5
}
