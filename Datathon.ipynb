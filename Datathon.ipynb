{
 "cells": [
  {
   "cell_type": "code",
   "execution_count": 1,
   "id": "f1f0a867",
   "metadata": {},
   "outputs": [],
   "source": [
    "import pandas as pd\n",
    "import numpy as np\n",
    "import os\n",
    "import matplotlib.pyplot as plt\n",
    "import seaborn as sns\n",
    "import sqlite3\n",
    "from pandas_profiling import ProfileReport"
   ]
  },
  {
   "cell_type": "code",
   "execution_count": 2,
   "id": "c8dadc2b",
   "metadata": {},
   "outputs": [
    {
     "data": {
      "text/plain": [
       "['Central Regional Fall 2021 Data Schema.docx',\n",
       " 'Central Regional Fall 2021 Problem Statement.docx',\n",
       " 'death_rates_smoking_age.csv',\n",
       " 'sales_per_day.csv',\n",
       " 'stop_smoking.csv',\n",
       " 'tobacco_production.csv',\n",
       " 'tobacco_production_footnotes.txt',\n",
       " 'tobacco_use_us.csv',\n",
       " 'tobacco_use_ww.csv',\n",
       " 'us_chronic_resp_disease.csv']"
      ]
     },
     "execution_count": 2,
     "metadata": {},
     "output_type": "execute_result"
    }
   ],
   "source": [
    "path = 'DataProvided'\n",
    "file_list = os.listdir(path)\n",
    "file_list"
   ]
  },
  {
   "cell_type": "code",
   "execution_count": 3,
   "id": "9f5cb1af",
   "metadata": {},
   "outputs": [],
   "source": [
    "data_dict = {file[:-4]:pd.read_csv(os.path.join(path,file)) for file in file_list if '.csv' in file}"
   ]
  },
  {
   "cell_type": "code",
   "execution_count": 4,
   "id": "db4cf0cb",
   "metadata": {},
   "outputs": [
    {
     "data": {
      "text/html": [
       "<div>\n",
       "<style scoped>\n",
       "    .dataframe tbody tr th:only-of-type {\n",
       "        vertical-align: middle;\n",
       "    }\n",
       "\n",
       "    .dataframe tbody tr th {\n",
       "        vertical-align: top;\n",
       "    }\n",
       "\n",
       "    .dataframe thead th {\n",
       "        text-align: right;\n",
       "    }\n",
       "</style>\n",
       "<table border=\"1\" class=\"dataframe\">\n",
       "  <thead>\n",
       "    <tr style=\"text-align: right;\">\n",
       "      <th></th>\n",
       "      <th>Entity</th>\n",
       "      <th>Code</th>\n",
       "      <th>Year</th>\n",
       "      <th>All_ages</th>\n",
       "      <th>Under_5</th>\n",
       "      <th>5_14</th>\n",
       "      <th>50_69</th>\n",
       "      <th>15_49</th>\n",
       "      <th>70_plus</th>\n",
       "    </tr>\n",
       "  </thead>\n",
       "  <tbody>\n",
       "    <tr>\n",
       "      <th>0</th>\n",
       "      <td>Afghanistan</td>\n",
       "      <td>AFG</td>\n",
       "      <td>1990</td>\n",
       "      <td>63.895905</td>\n",
       "      <td>NaN</td>\n",
       "      <td>NaN</td>\n",
       "      <td>267.230009</td>\n",
       "      <td>16.589519</td>\n",
       "      <td>679.006755</td>\n",
       "    </tr>\n",
       "    <tr>\n",
       "      <th>1</th>\n",
       "      <td>Afghanistan</td>\n",
       "      <td>AFG</td>\n",
       "      <td>1991</td>\n",
       "      <td>61.846347</td>\n",
       "      <td>NaN</td>\n",
       "      <td>NaN</td>\n",
       "      <td>266.975516</td>\n",
       "      <td>15.456913</td>\n",
       "      <td>677.617648</td>\n",
       "    </tr>\n",
       "    <tr>\n",
       "      <th>2</th>\n",
       "      <td>Afghanistan</td>\n",
       "      <td>AFG</td>\n",
       "      <td>1992</td>\n",
       "      <td>53.436511</td>\n",
       "      <td>NaN</td>\n",
       "      <td>NaN</td>\n",
       "      <td>266.430053</td>\n",
       "      <td>12.767999</td>\n",
       "      <td>679.505810</td>\n",
       "    </tr>\n",
       "    <tr>\n",
       "      <th>3</th>\n",
       "      <td>Afghanistan</td>\n",
       "      <td>AFG</td>\n",
       "      <td>1993</td>\n",
       "      <td>47.044347</td>\n",
       "      <td>NaN</td>\n",
       "      <td>NaN</td>\n",
       "      <td>267.969428</td>\n",
       "      <td>11.000425</td>\n",
       "      <td>683.973588</td>\n",
       "    </tr>\n",
       "    <tr>\n",
       "      <th>4</th>\n",
       "      <td>Afghanistan</td>\n",
       "      <td>AFG</td>\n",
       "      <td>1994</td>\n",
       "      <td>45.799808</td>\n",
       "      <td>NaN</td>\n",
       "      <td>NaN</td>\n",
       "      <td>272.403687</td>\n",
       "      <td>10.738020</td>\n",
       "      <td>691.007773</td>\n",
       "    </tr>\n",
       "  </tbody>\n",
       "</table>\n",
       "</div>"
      ],
      "text/plain": [
       "        Entity Code  Year   All_ages  Under_5  5_14       50_69      15_49  \\\n",
       "0  Afghanistan  AFG  1990  63.895905      NaN   NaN  267.230009  16.589519   \n",
       "1  Afghanistan  AFG  1991  61.846347      NaN   NaN  266.975516  15.456913   \n",
       "2  Afghanistan  AFG  1992  53.436511      NaN   NaN  266.430053  12.767999   \n",
       "3  Afghanistan  AFG  1993  47.044347      NaN   NaN  267.969428  11.000425   \n",
       "4  Afghanistan  AFG  1994  45.799808      NaN   NaN  272.403687  10.738020   \n",
       "\n",
       "      70_plus  \n",
       "0  679.006755  \n",
       "1  677.617648  \n",
       "2  679.505810  \n",
       "3  683.973588  \n",
       "4  691.007773  "
      ]
     },
     "execution_count": 4,
     "metadata": {},
     "output_type": "execute_result"
    }
   ],
   "source": [
    "data_dict['death_rates_smoking_age'].head()"
   ]
  },
  {
   "cell_type": "code",
   "execution_count": 5,
   "id": "0b80aee4",
   "metadata": {},
   "outputs": [
    {
     "data": {
      "text/html": [
       "<div>\n",
       "<style scoped>\n",
       "    .dataframe tbody tr th:only-of-type {\n",
       "        vertical-align: middle;\n",
       "    }\n",
       "\n",
       "    .dataframe tbody tr th {\n",
       "        vertical-align: top;\n",
       "    }\n",
       "\n",
       "    .dataframe thead th {\n",
       "        text-align: right;\n",
       "    }\n",
       "</style>\n",
       "<table border=\"1\" class=\"dataframe\">\n",
       "  <thead>\n",
       "    <tr style=\"text-align: right;\">\n",
       "      <th></th>\n",
       "      <th>Entity</th>\n",
       "      <th>Code</th>\n",
       "      <th>Year</th>\n",
       "      <th>amt</th>\n",
       "    </tr>\n",
       "  </thead>\n",
       "  <tbody>\n",
       "    <tr>\n",
       "      <th>0</th>\n",
       "      <td>Armenia</td>\n",
       "      <td>ARM</td>\n",
       "      <td>1988</td>\n",
       "      <td>12.0</td>\n",
       "    </tr>\n",
       "    <tr>\n",
       "      <th>1</th>\n",
       "      <td>Armenia</td>\n",
       "      <td>ARM</td>\n",
       "      <td>1989</td>\n",
       "      <td>11.6</td>\n",
       "    </tr>\n",
       "    <tr>\n",
       "      <th>2</th>\n",
       "      <td>Armenia</td>\n",
       "      <td>ARM</td>\n",
       "      <td>1990</td>\n",
       "      <td>11.9</td>\n",
       "    </tr>\n",
       "    <tr>\n",
       "      <th>3</th>\n",
       "      <td>Armenia</td>\n",
       "      <td>ARM</td>\n",
       "      <td>1991</td>\n",
       "      <td>9.3</td>\n",
       "    </tr>\n",
       "    <tr>\n",
       "      <th>4</th>\n",
       "      <td>Armenia</td>\n",
       "      <td>ARM</td>\n",
       "      <td>1992</td>\n",
       "      <td>4.9</td>\n",
       "    </tr>\n",
       "  </tbody>\n",
       "</table>\n",
       "</div>"
      ],
      "text/plain": [
       "    Entity Code  Year   amt\n",
       "0  Armenia  ARM  1988  12.0\n",
       "1  Armenia  ARM  1989  11.6\n",
       "2  Armenia  ARM  1990  11.9\n",
       "3  Armenia  ARM  1991   9.3\n",
       "4  Armenia  ARM  1992   4.9"
      ]
     },
     "execution_count": 5,
     "metadata": {},
     "output_type": "execute_result"
    }
   ],
   "source": [
    "data_dict['sales_per_day'].head()"
   ]
  },
  {
   "cell_type": "code",
   "execution_count": 6,
   "id": "ad07c430",
   "metadata": {},
   "outputs": [
    {
     "data": {
      "text/html": [
       "<div>\n",
       "<style scoped>\n",
       "    .dataframe tbody tr th:only-of-type {\n",
       "        vertical-align: middle;\n",
       "    }\n",
       "\n",
       "    .dataframe tbody tr th {\n",
       "        vertical-align: top;\n",
       "    }\n",
       "\n",
       "    .dataframe thead th {\n",
       "        text-align: right;\n",
       "    }\n",
       "</style>\n",
       "<table border=\"1\" class=\"dataframe\">\n",
       "  <thead>\n",
       "    <tr style=\"text-align: right;\">\n",
       "      <th></th>\n",
       "      <th>Entity</th>\n",
       "      <th>Code</th>\n",
       "      <th>Year</th>\n",
       "      <th>AvgCigarettePriceDollars</th>\n",
       "      <th>AvgTaxesAsPctCigarettePrice</th>\n",
       "      <th>EnforceBansTobaccoAd</th>\n",
       "      <th>HelpToQuit</th>\n",
       "    </tr>\n",
       "  </thead>\n",
       "  <tbody>\n",
       "    <tr>\n",
       "      <th>0</th>\n",
       "      <td>Algeria</td>\n",
       "      <td>DZA</td>\n",
       "      <td>2012</td>\n",
       "      <td>1.84</td>\n",
       "      <td>47.0</td>\n",
       "      <td>4</td>\n",
       "      <td>3</td>\n",
       "    </tr>\n",
       "    <tr>\n",
       "      <th>1</th>\n",
       "      <td>Algeria</td>\n",
       "      <td>DZA</td>\n",
       "      <td>2014</td>\n",
       "      <td>2.09</td>\n",
       "      <td>40.9</td>\n",
       "      <td>4</td>\n",
       "      <td>4</td>\n",
       "    </tr>\n",
       "    <tr>\n",
       "      <th>2</th>\n",
       "      <td>Argentina</td>\n",
       "      <td>ARG</td>\n",
       "      <td>2012</td>\n",
       "      <td>2.79</td>\n",
       "      <td>69.9</td>\n",
       "      <td>4</td>\n",
       "      <td>4</td>\n",
       "    </tr>\n",
       "    <tr>\n",
       "      <th>3</th>\n",
       "      <td>Argentina</td>\n",
       "      <td>ARG</td>\n",
       "      <td>2014</td>\n",
       "      <td>3.47</td>\n",
       "      <td>69.7</td>\n",
       "      <td>4</td>\n",
       "      <td>5</td>\n",
       "    </tr>\n",
       "    <tr>\n",
       "      <th>4</th>\n",
       "      <td>Armenia</td>\n",
       "      <td>ARM</td>\n",
       "      <td>2012</td>\n",
       "      <td>1.69</td>\n",
       "      <td>38.4</td>\n",
       "      <td>2</td>\n",
       "      <td>4</td>\n",
       "    </tr>\n",
       "  </tbody>\n",
       "</table>\n",
       "</div>"
      ],
      "text/plain": [
       "      Entity Code  Year  AvgCigarettePriceDollars  \\\n",
       "0    Algeria  DZA  2012                      1.84   \n",
       "1    Algeria  DZA  2014                      2.09   \n",
       "2  Argentina  ARG  2012                      2.79   \n",
       "3  Argentina  ARG  2014                      3.47   \n",
       "4    Armenia  ARM  2012                      1.69   \n",
       "\n",
       "   AvgTaxesAsPctCigarettePrice  EnforceBansTobaccoAd  HelpToQuit  \n",
       "0                         47.0                     4           3  \n",
       "1                         40.9                     4           4  \n",
       "2                         69.9                     4           4  \n",
       "3                         69.7                     4           5  \n",
       "4                         38.4                     2           4  "
      ]
     },
     "execution_count": 6,
     "metadata": {},
     "output_type": "execute_result"
    }
   ],
   "source": [
    "data_dict['stop_smoking'].head(5)"
   ]
  },
  {
   "cell_type": "code",
   "execution_count": 52,
   "id": "d9792c59",
   "metadata": {},
   "outputs": [
    {
     "data": {
      "text/plain": [
       "array(['Do you currently use chewing tobacco, snuff, or snus?',\n",
       "       'Four Level Smoking Status (variable calculated from one or more BRFSS questions)',\n",
       "       'Adults who are current smokers (variable calculated from one or more BRFSS questions)'],\n",
       "      dtype=object)"
      ]
     },
     "execution_count": 52,
     "metadata": {},
     "output_type": "execute_result"
    }
   ],
   "source": [
    "data_dict['tobacco_use_us']['Question'].unique()"
   ]
  },
  {
   "cell_type": "code",
   "execution_count": 24,
   "id": "5e776204",
   "metadata": {
    "scrolled": true
   },
   "outputs": [
    {
     "data": {
      "text/plain": [
       "dict_keys(['death_rates_smoking_age', 'sales_per_day', 'stop_smoking', 'tobacco_production', 'tobacco_use_us', 'tobacco_use_ww', 'us_chronic_resp_disease'])"
      ]
     },
     "execution_count": 24,
     "metadata": {},
     "output_type": "execute_result"
    }
   ],
   "source": [
    "report_dict = {key:ProfileReport(value, title = key,explorative=True) for key,value in data_dict.items()}\n",
    "report_dict.keys()"
   ]
  },
  {
   "cell_type": "code",
   "execution_count": null,
   "id": "46648a6c",
   "metadata": {},
   "outputs": [],
   "source": [
    "report_dict['death_rates_smoking_age'].to_widgets()"
   ]
  },
  {
   "cell_type": "code",
   "execution_count": 27,
   "id": "b96d1167",
   "metadata": {},
   "outputs": [
    {
     "data": {
      "application/vnd.jupyter.widget-view+json": {
       "model_id": "eb61e93301c14beebb414ff76238e6a5",
       "version_major": 2,
       "version_minor": 0
      },
      "text/plain": [
       "Summarize dataset:   0%|          | 0/5 [00:00<?, ?it/s]"
      ]
     },
     "metadata": {},
     "output_type": "display_data"
    },
    {
     "data": {
      "application/vnd.jupyter.widget-view+json": {
       "model_id": "bf866e91908245208607bfcbffd73d14",
       "version_major": 2,
       "version_minor": 0
      },
      "text/plain": [
       "Generate report structure:   0%|          | 0/1 [00:00<?, ?it/s]"
      ]
     },
     "metadata": {},
     "output_type": "display_data"
    },
    {
     "data": {
      "application/vnd.jupyter.widget-view+json": {
       "model_id": "",
       "version_major": 2,
       "version_minor": 0
      },
      "text/plain": [
       "Render widgets:   0%|          | 0/1 [00:00<?, ?it/s]"
      ]
     },
     "metadata": {},
     "output_type": "display_data"
    },
    {
     "data": {
      "application/vnd.jupyter.widget-view+json": {
       "model_id": "cabb73ff44414b93b4eba55ea06b3579",
       "version_major": 2,
       "version_minor": 0
      },
      "text/plain": [
       "VBox(children=(Tab(children=(Tab(children=(GridBox(children=(VBox(children=(GridspecLayout(children=(HTML(valu…"
      ]
     },
     "metadata": {},
     "output_type": "display_data"
    }
   ],
   "source": [
    "report_dict['sales_per_day'].to_widgets()"
   ]
  },
  {
   "cell_type": "code",
   "execution_count": 31,
   "id": "3cf9b07f",
   "metadata": {},
   "outputs": [
    {
     "data": {
      "application/vnd.jupyter.widget-view+json": {
       "model_id": "",
       "version_major": 2,
       "version_minor": 0
      },
      "text/plain": [
       "Render widgets:   0%|          | 0/1 [00:00<?, ?it/s]"
      ]
     },
     "metadata": {},
     "output_type": "display_data"
    },
    {
     "data": {
      "application/vnd.jupyter.widget-view+json": {
       "model_id": "360d80341b9847c98d51b495ebe81731",
       "version_major": 2,
       "version_minor": 0
      },
      "text/plain": [
       "VBox(children=(Tab(children=(Tab(children=(GridBox(children=(VBox(children=(GridspecLayout(children=(HTML(valu…"
      ]
     },
     "metadata": {},
     "output_type": "display_data"
    }
   ],
   "source": [
    "report_dict['stop_smoking'].to_widgets()"
   ]
  },
  {
   "cell_type": "code",
   "execution_count": 32,
   "id": "838ccaf8",
   "metadata": {},
   "outputs": [
    {
     "data": {
      "application/vnd.jupyter.widget-view+json": {
       "model_id": "e546051de324430bac615d4cffb76bef",
       "version_major": 2,
       "version_minor": 0
      },
      "text/plain": [
       "VBox(children=(Tab(children=(Tab(children=(GridBox(children=(VBox(children=(GridspecLayout(children=(HTML(valu…"
      ]
     },
     "metadata": {},
     "output_type": "display_data"
    }
   ],
   "source": [
    "report_dict['tobacco_production'].to_widgets()"
   ]
  },
  {
   "cell_type": "code",
   "execution_count": 33,
   "id": "1c4af276",
   "metadata": {},
   "outputs": [
    {
     "data": {
      "application/vnd.jupyter.widget-view+json": {
       "model_id": "7ec0d8437f5c486589cf1c09c494b4f4",
       "version_major": 2,
       "version_minor": 0
      },
      "text/plain": [
       "Summarize dataset:   0%|          | 0/5 [00:00<?, ?it/s]"
      ]
     },
     "metadata": {},
     "output_type": "display_data"
    },
    {
     "data": {
      "application/vnd.jupyter.widget-view+json": {
       "model_id": "d37ceb11e573448d83f133c6db8e213a",
       "version_major": 2,
       "version_minor": 0
      },
      "text/plain": [
       "Generate report structure:   0%|          | 0/1 [00:00<?, ?it/s]"
      ]
     },
     "metadata": {},
     "output_type": "display_data"
    },
    {
     "name": "stderr",
     "output_type": "stream",
     "text": [
      "C:\\ProgramData\\Anaconda3\\lib\\site-packages\\pandas_profiling\\visualisation\\plot.py:317: UserWarning: The handle <matplotlib.patches.Wedge object at 0x0000014241667310> has a label of '_SMOKER3' which cannot be automatically added to the legend.\n",
      "  plt.legend(wedges, data.index.values, **legend_kws)\n",
      "C:\\ProgramData\\Anaconda3\\lib\\site-packages\\pandas_profiling\\visualisation\\plot.py:317: UserWarning: The handle <matplotlib.patches.Wedge object at 0x0000014241667FD0> has a label of '_RFSMOK3' which cannot be automatically added to the legend.\n",
      "  plt.legend(wedges, data.index.values, **legend_kws)\n"
     ]
    },
    {
     "data": {
      "application/vnd.jupyter.widget-view+json": {
       "model_id": "",
       "version_major": 2,
       "version_minor": 0
      },
      "text/plain": [
       "Render widgets:   0%|          | 0/1 [00:00<?, ?it/s]"
      ]
     },
     "metadata": {},
     "output_type": "display_data"
    },
    {
     "data": {
      "application/vnd.jupyter.widget-view+json": {
       "model_id": "4e630b09f8c84e7cb994a5c4e3ec5d37",
       "version_major": 2,
       "version_minor": 0
      },
      "text/plain": [
       "VBox(children=(Tab(children=(Tab(children=(GridBox(children=(VBox(children=(GridspecLayout(children=(HTML(valu…"
      ]
     },
     "metadata": {},
     "output_type": "display_data"
    }
   ],
   "source": [
    "report_dict['tobacco_use_us'].to_widgets()"
   ]
  },
  {
   "cell_type": "code",
   "execution_count": 34,
   "id": "a609c03f",
   "metadata": {},
   "outputs": [
    {
     "data": {
      "application/vnd.jupyter.widget-view+json": {
       "model_id": "100c565aad214fa9bb21abc387306ec5",
       "version_major": 2,
       "version_minor": 0
      },
      "text/plain": [
       "Summarize dataset:   0%|          | 0/5 [00:00<?, ?it/s]"
      ]
     },
     "metadata": {},
     "output_type": "display_data"
    },
    {
     "data": {
      "application/vnd.jupyter.widget-view+json": {
       "model_id": "ad6608de3884457bb758fa2e8067424d",
       "version_major": 2,
       "version_minor": 0
      },
      "text/plain": [
       "Generate report structure:   0%|          | 0/1 [00:00<?, ?it/s]"
      ]
     },
     "metadata": {},
     "output_type": "display_data"
    },
    {
     "data": {
      "application/vnd.jupyter.widget-view+json": {
       "model_id": "",
       "version_major": 2,
       "version_minor": 0
      },
      "text/plain": [
       "Render widgets:   0%|          | 0/1 [00:00<?, ?it/s]"
      ]
     },
     "metadata": {},
     "output_type": "display_data"
    },
    {
     "data": {
      "application/vnd.jupyter.widget-view+json": {
       "model_id": "2bc499f2f2844010a05fe41b4e7d4b15",
       "version_major": 2,
       "version_minor": 0
      },
      "text/plain": [
       "VBox(children=(Tab(children=(Tab(children=(GridBox(children=(VBox(children=(GridspecLayout(children=(HTML(valu…"
      ]
     },
     "metadata": {},
     "output_type": "display_data"
    }
   ],
   "source": [
    "report_dict['tobacco_use_ww'].to_widgets()"
   ]
  },
  {
   "cell_type": "code",
   "execution_count": 35,
   "id": "dc9bd4e1",
   "metadata": {},
   "outputs": [
    {
     "data": {
      "application/vnd.jupyter.widget-view+json": {
       "model_id": "57b643ef890e4585b51592b134c2f651",
       "version_major": 2,
       "version_minor": 0
      },
      "text/plain": [
       "Summarize dataset:   0%|          | 0/5 [00:00<?, ?it/s]"
      ]
     },
     "metadata": {},
     "output_type": "display_data"
    },
    {
     "name": "stderr",
     "output_type": "stream",
     "text": [
      "C:\\ProgramData\\Anaconda3\\lib\\site-packages\\scipy\\stats\\stats.py:4594: RuntimeWarning: overflow encountered in longlong_scalars\n",
      "  (2 * xtie * ytie) / m + x0 * y0 / (9 * m * (size - 2)))\n"
     ]
    },
    {
     "data": {
      "application/vnd.jupyter.widget-view+json": {
       "model_id": "67fce29cf52c4f8bba9e36f2766ae04e",
       "version_major": 2,
       "version_minor": 0
      },
      "text/plain": [
       "Generate report structure:   0%|          | 0/1 [00:00<?, ?it/s]"
      ]
     },
     "metadata": {},
     "output_type": "display_data"
    },
    {
     "data": {
      "application/vnd.jupyter.widget-view+json": {
       "model_id": "",
       "version_major": 2,
       "version_minor": 0
      },
      "text/plain": [
       "Render widgets:   0%|          | 0/1 [00:00<?, ?it/s]"
      ]
     },
     "metadata": {},
     "output_type": "display_data"
    },
    {
     "data": {
      "application/vnd.jupyter.widget-view+json": {
       "model_id": "f0cbfc1df9b64e5a92837e10a1903867",
       "version_major": 2,
       "version_minor": 0
      },
      "text/plain": [
       "VBox(children=(Tab(children=(Tab(children=(GridBox(children=(VBox(children=(GridspecLayout(children=(HTML(valu…"
      ]
     },
     "metadata": {},
     "output_type": "display_data"
    }
   ],
   "source": [
    "report_dict['us_chronic_resp_disease'].to_widgets()"
   ]
  },
  {
   "cell_type": "code",
   "execution_count": 40,
   "id": "00b1d1c3",
   "metadata": {},
   "outputs": [
    {
     "data": {
      "text/plain": [
       "array(['Armenia', 'Australia', 'Austria', 'Azerbaijan', 'Belarus',\n",
       "       'Belgium', 'Bulgaria', 'Canada', 'Croatia', 'Czechia',\n",
       "       'Czechoslovakia', 'Denmark', 'Estonia', 'Finland', 'France',\n",
       "       'Georgia', 'Germany', 'Greece', 'Hungary', 'Iceland', 'Ireland',\n",
       "       'Israel', 'Italy', 'Japan', 'Kazakhstan', 'Kyrgyzstan', 'Latvia',\n",
       "       'Lithuania', 'Moldova', 'Netherlands', 'New Zealand', 'Norway',\n",
       "       'Poland', 'Portugal', 'Romania', 'Russia', 'Slovakia', 'Slovenia',\n",
       "       'Spain', 'Sweden', 'Switzerland',\n",
       "       'USSR and the former Soviet Union', 'United Kingdom',\n",
       "       'United States', 'Yugoslavia'], dtype=object)"
      ]
     },
     "execution_count": 40,
     "metadata": {},
     "output_type": "execute_result"
    }
   ],
   "source": [
    "data_dict['sales_per_day']['Entity'].unique()"
   ]
  },
  {
   "cell_type": "code",
   "execution_count": null,
   "id": "002f75fc",
   "metadata": {},
   "outputs": [],
   "source": []
  }
 ],
 "metadata": {
  "kernelspec": {
   "display_name": "Python 3",
   "language": "python",
   "name": "python3"
  },
  "language_info": {
   "codemirror_mode": {
    "name": "ipython",
    "version": 3
   },
   "file_extension": ".py",
   "mimetype": "text/x-python",
   "name": "python",
   "nbconvert_exporter": "python",
   "pygments_lexer": "ipython3",
   "version": "3.8.8"
  }
 },
 "nbformat": 4,
 "nbformat_minor": 5
}
